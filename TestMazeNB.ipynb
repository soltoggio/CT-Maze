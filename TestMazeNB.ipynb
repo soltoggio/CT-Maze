{
 "cells": [
  {
   "cell_type": "code",
   "execution_count": 1,
   "metadata": {
    "scrolled": true
   },
   "outputs": [],
   "source": [
    "import numpy as np\n",
    "import gym\n",
    "from gym_CTMaze.envs import CTMaze_env\n",
    "from gym_CTMaze.envs.CTMaze_conf import CTMaze_conf\n",
    "import json\n",
    "\n",
    "from PIL import Image\n",
    "import matplotlib.pyplot as plt\n",
    "import matplotlib.image as mpimg"
   ]
  },
  {
   "cell_type": "code",
   "execution_count": 2,
   "metadata": {},
   "outputs": [],
   "source": [
    "def printout(p_obs, p_reward, p_act, p_done, p_info, p_counter):\n",
    "    \"\"\"Print out the navigation variable at each step\"\"\"\n",
    "    print(\"Feeding action: \", p_act)\n",
    "    print(\"Step:\", p_counter)\n",
    "    print(\"Observation: \", p_obs)\n",
    "    print(\"Reward: \", p_reward)\n",
    "    print(\"Done: \", p_done)\n",
    "    print(\"Info: \", p_info)"
   ]
  },
  {
   "cell_type": "code",
   "execution_count": 10,
   "metadata": {
    "scrolled": true
   },
   "outputs": [
    {
     "name": "stdout",
     "output_type": "stream",
     "text": [
      "Reading configuration parameters from  maze.json\n",
      "---------------------------------------------------\n",
      "             The CT-Maze environments              \n",
      "---------------------------------------------------\n",
      "{\n",
      "   \"maze_shape\": {\n",
      "      \"depth\": 4,\n",
      "      \"branching_factor\": 4,\n",
      "      \"corridor_min_length\": 2,\n",
      "      \"corridor_max_length\": 5\n",
      "   },\n",
      "   \"reward\": {\n",
      "      \"high_reward_value\": 1.0,\n",
      "      \"crash_reward_value\": -1.0,\n",
      "      \"stochastic_sampling\": false,\n",
      "      \"reward_std\": 0.1,\n",
      "      \"min_static_reward_episodes\": 30,\n",
      "      \"max_static_reward_episodes\": 70,\n",
      "      \"reward_distribution\": \"needle_in_haystack\"\n",
      "   },\n",
      "   \"observations\": {\n",
      "      \"image_set\": \"standard\",\n",
      "      \"observation_res\": 12,\n",
      "      \"noise_on_images\": 64\n",
      "   },\n",
      "   \"actions\": {\n",
      "      \"action_space_size\": 10,\n",
      "      \"corridor_actions\": [\n",
      "         5,\n",
      "         6,\n",
      "         7,\n",
      "         8,\n",
      "         9\n",
      "      ],\n",
      "      \"turning_point_actions\": [\n",
      "         0,\n",
      "         1,\n",
      "         2,\n",
      "         3,\n",
      "         4\n",
      "      ]\n",
      "   }\n",
      "}\n",
      "---------------------------------------------------\n",
      "This instance of CT-Maze has 256 maze ends.\n",
      "---------------------------------------------------\n"
     ]
    }
   ],
   "source": [
    "# fetch the parameters from the json file\n",
    "configuration = CTMaze_conf(\"maze.json\")\n",
    "conf_data = configuration.getParameters()\n",
    "\n",
    "env = gym.make('CTMaze-v0')\n",
    "print(json.dumps(conf_data, indent=3))\n",
    "\n",
    "print_results = True\n",
    "\n",
    "observation, reward, done, info = env.init(conf_data)"
   ]
  },
  {
   "cell_type": "code",
   "execution_count": 11,
   "metadata": {
    "scrolled": true
   },
   "outputs": [
    {
     "name": "stdout",
     "output_type": "stream",
     "text": [
      "*--- Testing script ----*\n",
      "We set the high reward path to:  [1 1 3 1]\n",
      "*--- Running test ------*\n",
      "Feeding action:  0\n",
      "Step: 0\n",
      "Observation:  [[224. 232. 237. 207. 200. 197. 198. 234. 192. 211. 217. 218.]\n",
      " [224.   9.  48.  32.   4.  41.   4.  55.   1.  44.  58. 232.]\n",
      " [198.  50.  52.  39.   6.  60.  22.  62.  34.  59.  45. 216.]\n",
      " [239.  54.  12. 200. 226. 240. 239. 244. 225.  40.  43. 230.]\n",
      " [216.   4.  19. 219. 253. 235. 227. 225. 230.  46.   2. 202.]\n",
      " [199.   9.   7. 228. 240. 200. 212. 251. 221.  17.   0. 198.]\n",
      " [252.   1.  24. 215. 235. 230. 192. 221. 234.  47.  51. 226.]\n",
      " [194.  49.  51. 226. 227. 211. 211. 194. 225.   9.   1. 240.]\n",
      " [231.  32.  23. 245. 245. 213. 199. 228. 224.  11.  55. 210.]\n",
      " [190.  42.  45.  60.  36.  28.  28.   9.  23.  35.  59. 212.]\n",
      " [239.  38.  48.  42.   7.  27.  42.  41.  61.  52.  22. 227.]\n",
      " [208. 204. 248. 236. 245. 212. 200. 253. 195. 242. 194. 234.]]\n",
      "Reward:  0.0\n",
      "Done:  False\n",
      "Info:  Home\n"
     ]
    }
   ],
   "source": [
    "high_reward_path = np.array(np.random.randint(1, conf_data['maze_shape']['branching_factor'], size=conf_data['maze_shape']['depth']))\n",
    "env.set_high_reward_path(high_reward_path)\n",
    "\n",
    "print(\"*--- Testing script ----*\")\n",
    "print(\"We set the high reward path to: \", env.get_high_reward_path() )\n",
    "print(\"*--- Running test ------*\")\n",
    "\n",
    "action = 0\n",
    "counter = 0\n",
    "\n",
    "printout(observation, reward, action, done, info, counter)"
   ]
  },
  {
   "cell_type": "code",
   "execution_count": 12,
   "metadata": {
    "scrolled": false
   },
   "outputs": [
    {
     "name": "stdout",
     "output_type": "stream",
     "text": [
      "Action: 6\n",
      "Feeding action:  6\n",
      "Step: 1\n",
      "Observation:  [[ 25.  23. 218. 239.  24.  33.  19.  53.  21.  28.   8.  54.]\n",
      " [ 29.  19. 242. 211.   9.  27.  57.  24.  21.  46.   1.  48.]\n",
      " [ 33.  22. 213. 215.  46.   0.   6.  42.  31.  26.  13.  54.]\n",
      " [ 19.  60. 247. 207.  41.   9.  54.  60.  25.  45.  43.  37.]\n",
      " [ 54.  20. 202. 192.  53.  16.  30.  33.  23.  60.  20.  50.]\n",
      " [193. 239. 253. 248. 194. 200. 226. 199. 251. 191. 245. 215.]\n",
      " [213. 215. 239. 248. 231. 240. 224. 202. 214. 218. 212. 249.]\n",
      " [ 48.  18. 226. 231.  18.  52.  39.  43.  11.   2.  15.   6.]\n",
      " [  9.   6. 249. 192.  38.  39.  27.  14.  18.  55.  57.   2.]\n",
      " [ 17.  14. 226. 211.  51.  43.  55.  51.  11.   3.  46.   2.]\n",
      " [ 62.  60. 219. 248.  52.  29.  39.   8.   1.  26.  30.  36.]\n",
      " [ 11.  55. 210. 204.  58.  22.  50.  50.  36.   9.  60.   5.]]\n",
      "Reward:  0.0\n",
      "Done:  False\n",
      "Info:  ('OK/corridor->corridor, steps left', 3)\n",
      "Action: 6\n",
      "Feeding action:  6\n",
      "Step: 2\n",
      "Observation:  [[ 50.  11.  42.   1.  54.  44.  25.  21. 219. 213.   1.   9.]\n",
      " [  2.  38.  26.  24.   1.  10.  35.  50. 247. 221.  21.  24.]\n",
      " [ 47.  60.  23.  30.  36.  43.  20.  27. 197. 247.  24.  49.]\n",
      " [ 21.  10.  18.  49.  35.  15.   6.  41. 251. 224.  45.  21.]\n",
      " [ 39.  21.  28.  50.  18.  58.  41.  19. 231. 221.  62.  40.]\n",
      " [ 39.  62.  10.   6.  25.  17.  34.  51. 224. 218.  23.   7.]\n",
      " [ 54.  60.  15.  47.  54.  47.  24.  16. 233. 249.  63.  13.]\n",
      " [ 54.  61.  15.  29.  57.  40.  58.  24. 243. 233.  62.  20.]\n",
      " [198. 191. 247. 234. 238. 229. 238. 222. 192. 253. 238. 194.]\n",
      " [249. 225. 236. 198. 204. 235. 215. 198. 248. 197. 231. 250.]\n",
      " [ 47.  25.  53.  28.  49.  35.  28.   0. 219. 195.  31.  11.]\n",
      " [ 46.  58.  52.  52.  34.  29.  59.  63. 240. 210.  37.   4.]]\n",
      "Reward:  0.0\n",
      "Done:  False\n",
      "Info:  ('OK/corridor->corridor, steps left', 2)\n",
      "Action: 6\n",
      "Feeding action:  6\n",
      "Step: 3\n",
      "Observation:  [[ 55.   6.   3.  24.  60.  55.  12.  41.  23.   0.  26.  11.]\n",
      " [  3.  49. 142.  17.   5.  32.   0.  12.  41.   9.  46.   0.]\n",
      " [ 47. 159. 191. 184.  76.  31.   7.  31.  47.  53.  31.  59.]\n",
      " [ 14.  67. 182. 212. 177.  73.  56.  17.  21.  63.   7. 103.]\n",
      " [ 23.  51.  21. 158. 197. 194.  75.  47.   1.  16. 138. 251.]\n",
      " [ 22.   7.  52.  22. 166. 217. 193.  45.  58. 174. 223. 240.]\n",
      " [ 17.  49.   1.  49.  40. 196. 236. 155. 133. 244. 202.  79.]\n",
      " [ 52.  10.  25.  28.   5.  59. 213. 228. 220. 205. 104.  52.]\n",
      " [ 40.  59.  30.  61.  24.  15. 156. 196. 253. 186.  53.  27.]\n",
      " [ 60.  48.  19.  41.  58. 150. 199. 207. 182. 217. 154.  34.]\n",
      " [ 29.  23.  55.  36. 123. 234. 244.  99.  47. 183.  84.  27.]\n",
      " [ 15.  48.  51. 108. 218. 238.  59.  47.  36.  60.  33.  42.]]\n",
      "Reward:  0.0\n",
      "Done:  False\n",
      "Info:  ('OK/corridor->corridor, steps left', 1)\n",
      "Action: 6\n",
      "Feeding action:  6\n",
      "Step: 4\n",
      "Observation:  [[248. 240. 252. 239. 243. 232. 213. 207. 239. 190. 247. 236.]\n",
      " [237.  53.  16.  52.  13.  25.  53.   2.  47.  22.  15. 215.]\n",
      " [198.   2.   4.  32.  45.   9.  23.   4.  37.  32.   9. 192.]\n",
      " [235.  39.  45. 213. 214. 252. 240. 233. 222.  14.  57. 212.]\n",
      " [203.   6.  50. 230. 242. 240. 235. 221. 194.  38.  12. 213.]\n",
      " [199.  41.  30. 220. 252. 235. 192. 231. 218.  52.  47. 229.]\n",
      " [205.  50.  62. 251. 230. 210. 244. 219. 229.  10.   7. 209.]\n",
      " [220.  57.  29. 232. 201. 224. 237. 213. 251.  38.  24. 236.]\n",
      " [238.  38.  13. 226. 191. 240. 195. 214. 204.  50.  17. 194.]\n",
      " [219.  59.   5.  59.  13.  18.  47.   6.   1.  44.  62. 208.]\n",
      " [237.  16.  12.  33.  57.  51.  38.  29.  30.   4.  40. 216.]\n",
      " [232. 212. 194. 207. 211. 234. 234. 252. 227. 215. 205. 226.]]\n",
      "Reward:  0.0\n",
      "Done:  False\n",
      "Info:  OK/corridor->turning_point\n",
      "Action: 6\n",
      "Feeding action:  6\n",
      "Step: 5\n",
      "Observation:  [[ 45.  24.  30.  40.  43.  27.  42.  37.  57.  47.  49.  57.]\n",
      " [ 38.  40. 171.  16.  30.  50.  46.  11.  41.   6.  58.  42.]\n",
      " [ 29. 163. 217. 171.  29.  58.  21.  50.  44.  54.  45.  60.]\n",
      " [ 26.  38. 182. 248. 191.  58.  44.  19.  60.  46.  29.  27.]\n",
      " [ 20.  51.  52. 170. 199. 172.  22.  43.  21.  55.  13.  32.]\n",
      " [ 46.  47.  14.  22. 201. 192. 181.  73.  12.  38.  11.   2.]\n",
      " [ 33.  48.  20.  35.  31. 186. 242. 169.  17.  13.  10.  57.]\n",
      " [ 46.  31.  53.   7.   5.  59. 198. 207. 194.  29.  19.  27.]\n",
      " [  2.  21.  35.  16.  11.  44.  59. 173. 238. 154.  39.  63.]\n",
      " [ 16.  61.  21.  18.  23.  16.   7.  63. 151. 224. 145.  26.]\n",
      " [ 23.  62.  63.  50.  13.   3.   6.  54.  35. 142.  41.  13.]\n",
      " [ 27.   3.  11.  63.  13.  62.  52.  14.   3.  56.   7.  49.]]\n",
      "Reward:  -1.0\n",
      "Done:  True\n",
      "Info:  Crash/turning_point->corridor\n"
     ]
    }
   ],
   "source": [
    "while not done:\n",
    "    action = int(input(\"Action: \"))\n",
    "    observation, reward, done, info = env.step(action)\n",
    "    counter = counter  + 1\n",
    "    if print_results:\n",
    "        printout(observation, reward, action, done, info, counter)"
   ]
  },
  {
   "cell_type": "code",
   "execution_count": null,
   "metadata": {},
   "outputs": [],
   "source": []
  }
 ],
 "metadata": {
  "kernelspec": {
   "display_name": "Python 3",
   "language": "python",
   "name": "python3"
  },
  "language_info": {
   "codemirror_mode": {
    "name": "ipython",
    "version": 3
   },
   "file_extension": ".py",
   "mimetype": "text/x-python",
   "name": "python",
   "nbconvert_exporter": "python",
   "pygments_lexer": "ipython3",
   "version": "3.6.7"
  }
 },
 "nbformat": 4,
 "nbformat_minor": 2
}
